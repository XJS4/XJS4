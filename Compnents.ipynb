{
 "cells": [
  {
   "cell_type": "markdown",
   "metadata": {},
   "source": [
    "# Repositories from the Pear Project Github that I may want to clone for my Arch Transfer\n",
    "\n",
    "* Packup (pearOS backup tool)\n",
    "* Piri Assistant\n",
    "* The touchpad config (touchegg is a dependency. Linked here: https://github.com/JoseExposito/touchegg#arch-linux-manjaro-and-derivatives)\n",
    "* The Launchpad\n",
    "* The System overview\n",
    "* The GRUB Theme\n",
    "* The Control Centre \n",
    "* Maybe Pairdrop\n",
    "* USB Utility\n",
    "* PEXT Installer\n",
    "* pearOS Boot Sound \n",
    "* pearOS default font"
   ]
  }
 ],
 "metadata": {
  "language_info": {
   "name": "plaintext"
  },
  "orig_nbformat": 4
 },
 "nbformat": 4,
 "nbformat_minor": 2
}
